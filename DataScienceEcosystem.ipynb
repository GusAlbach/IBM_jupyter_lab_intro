{
 "cells": [
  {
   "cell_type": "markdown",
   "id": "750e8f0e-8657-42fa-848b-4eb9c28468ad",
   "metadata": {},
   "source": [
    "# Data Science Tools and Ecosystem"
   ]
  },
  {
   "cell_type": "markdown",
   "id": "1805c6cc-ee5c-4098-adb7-a5af80580559",
   "metadata": {},
   "source": [
    "In this notebook, Data Science Tools and Ecosystem are summarized"
   ]
  },
  {
   "cell_type": "markdown",
   "id": "8c7f75d8-c5c9-4c2f-bd7b-e2823313f65e",
   "metadata": {},
   "source": [
    "__Objectives:__\n",
    "- List popular languages for Data Science\n",
    "- List popular libraries for Data Science\n",
    "- Evaluate arithmetic expressions using python\n"
   ]
  },
  {
   "cell_type": "markdown",
   "id": "60263c8f-3986-42c3-99bd-9c91e9d4c8ff",
   "metadata": {},
   "source": [
    "Some of the popular languages that Data Scientists use are:\n",
    "1. Python\n",
    "2. R\n",
    "3. SQL"
   ]
  },
  {
   "cell_type": "markdown",
   "id": "c372377f-3d48-4616-a550-9a4fee2343a7",
   "metadata": {},
   "source": [
    "Some of the commonly libraries used by Data Scientists include:\n",
    "1. Pandas\n",
    "2. numPy\n",
    "3. scikit-learn\n"
   ]
  },
  {
   "cell_type": "markdown",
   "id": "01247da9-936d-4465-b2a5-070b4b55ed55",
   "metadata": {},
   "source": [
    "| Data Science Tools |\n",
    "| ------------------- |\n",
    "| Angular |\n",
    "| Visual Studio Code |\n",
    "| Notepad++ |"
   ]
  },
  {
   "cell_type": "markdown",
   "id": "24e9db46-9ec8-415a-8f53-12edf82c7af0",
   "metadata": {},
   "source": [
    "### Below are a few examples of evaluating arithmetic expressions in Python\n",
    "\n",
    "3 + 4\n",
    "7 * 28"
   ]
  },
  {
   "cell_type": "code",
   "execution_count": 4,
   "id": "48fe04ee-42e8-410b-8775-fe9108234161",
   "metadata": {},
   "outputs": [
    {
     "data": {
      "text/plain": [
       "17"
      ]
     },
     "execution_count": 4,
     "metadata": {},
     "output_type": "execute_result"
    }
   ],
   "source": [
    "(3*4)+5\n",
    "# This a simple arithmetic expression to mutiply then add integers"
   ]
  },
  {
   "cell_type": "code",
   "execution_count": 5,
   "id": "8edae0d3-5926-4032-ad75-c8d723f19051",
   "metadata": {},
   "outputs": [
    {
     "data": {
      "text/plain": [
       "3.3333333333333335"
      ]
     },
     "execution_count": 5,
     "metadata": {},
     "output_type": "execute_result"
    }
   ],
   "source": [
    "200 / 60\n",
    "# This will convert 200 minutes to hours by diving by 60"
   ]
  },
  {
   "cell_type": "markdown",
   "id": "c8d6d996-5a0b-443f-9796-c0656ac052b4",
   "metadata": {},
   "source": [
    "## Author"
   ]
  }
 ],
 "metadata": {
  "kernelspec": {
   "display_name": "Python 3 (ipykernel)",
   "language": "python",
   "name": "python3"
  },
  "language_info": {
   "codemirror_mode": {
    "name": "ipython",
    "version": 3
   },
   "file_extension": ".py",
   "mimetype": "text/x-python",
   "name": "python",
   "nbconvert_exporter": "python",
   "pygments_lexer": "ipython3",
   "version": "3.12.7"
  }
 },
 "nbformat": 4,
 "nbformat_minor": 5
}
